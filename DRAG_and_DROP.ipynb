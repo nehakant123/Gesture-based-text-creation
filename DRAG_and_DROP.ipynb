{
 "cells": [
  {
   "cell_type": "code",
   "execution_count": null,
   "id": "88c1cc2e-783a-4017-b038-a743f682f9c3",
   "metadata": {},
   "outputs": [],
   "source": []
  }
 ],
 "metadata": {
  "kernelspec": {
   "display_name": "",
   "name": ""
  },
  "language_info": {
   "name": ""
  }
 },
 "nbformat": 4,
 "nbformat_minor": 5
}
