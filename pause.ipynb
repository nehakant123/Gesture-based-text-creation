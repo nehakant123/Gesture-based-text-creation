{
 "cells": [
  {
   "cell_type": "code",
   "execution_count": 1,
   "id": "2ebddf13-846e-45fd-8a95-3516d2c4b126",
   "metadata": {},
   "outputs": [],
   "source": [
    "import cv2\n",
    "import time\n",
    "import handtrackingModule2 as htm\n",
    "\n",
    "wCam,hCam=1280,720\n",
    "cap=cv2.VideoCapture(0)\n",
    "cap.set(3,wCam)\n",
    "cap.set(4,hCam)\n",
    "detector=htm.handDetector(detectionCon=0.7)\n",
    "pTime=0\n",
    "\n",
    "tipIds=[4,8,12,16,20]\n",
    "\n",
    "while True:\n",
    "    success,img=cap.read()\n",
    "    img=detector.findHands(img)\n",
    "    lmlist=detector.findPosition(img,draw=False)\n",
    "\n",
    "    if len(lmlist)!=0:\n",
    "        fingers=[]\n",
    "        if(lmlist[tipIds[0]][1]>lmlist[tipIds[0]-1][1]):\n",
    "                fingers.append(1)\n",
    "        else:\n",
    "                fingers.append(0)\n",
    "        \n",
    "        for id in range(1,5):\n",
    "            if(lmlist[tipIds[id]][2]<lmlist[tipIds[id]-2][2]):\n",
    "                fingers.append(1)\n",
    "            else:\n",
    "                fingers.append(0)\n",
    "        #print(fingers)\n",
    "        totalFingers=fingers.count(1)\n",
    "        print(totalFingers)\n",
    "        while(totalFingers>=4):\n",
    "             cv2.putText(img,\"PAUSE\",(150,70),cv2.FONT_HERSHEY_COMPLEX,1,(0.255,0),3) \n",
    "             cv2.imshow(\"Img\",img)\n",
    "             key = cv2.waitKey(1)  # Check for key press every 1 millisecond\n",
    "             if key == ord('q'):  # 'q' key to exit\n",
    "               break\n",
    "             \n",
    "           \n",
    "                  \n",
    " \n",
    "    cTime=time.time()\n",
    "    fps=1/(cTime-pTime)\n",
    "    pTime=cTime\n",
    "\n",
    "    cv2.putText(img,f'FPS:{int(fps)}',(150,70),cv2.FONT_HERSHEY_COMPLEX,1,(0,0,255),3)\n",
    "\n",
    "    cv2.imshow(\"Img\",img)\n",
    "    cv2.waitKey(1)"
   ]
  }
 ],
 "metadata": {
  "kernelspec": {
   "display_name": "Python 3 (ipykernel)",
   "language": "python",
   "name": "python3"
  },
  "language_info": {
   "codemirror_mode": {
    "name": "ipython",
    "version": 3
   },
   "file_extension": ".py",
   "mimetype": "text/x-python",
   "name": "python",
   "nbconvert_exporter": "python",
   "pygments_lexer": "ipython3",
   "version": "3.12.3"
  }
 },
 "nbformat": 4,
 "nbformat_minor": 5
}
